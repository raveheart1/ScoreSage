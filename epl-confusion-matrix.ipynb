{
  "nbformat": 4,
  "nbformat_minor": 0,
  "metadata": {
    "colab": {
      "provenance": [],
      "authorship_tag": "ABX9TyMcYFNJ4jQ4UNjr12eKyqwv",
      "include_colab_link": true
    },
    "kernelspec": {
      "name": "python3",
      "display_name": "Python 3"
    },
    "language_info": {
      "name": "python"
    }
  },
  "cells": [
    {
      "cell_type": "markdown",
      "metadata": {
        "id": "view-in-github",
        "colab_type": "text"
      },
      "source": [
        "<a href=\"https://colab.research.google.com/github/raveheart1/ScoreSage/blob/main/epl-confusion-matrix.ipynb\" target=\"_parent\"><img src=\"https://colab.research.google.com/assets/colab-badge.svg\" alt=\"Open In Colab\"/></a>"
      ]
    },
    {
      "cell_type": "code",
      "execution_count": 72,
      "metadata": {
        "id": "VSSk2iNpGKse"
      },
      "outputs": [],
      "source": [
        "# installing dependencies\n",
        "import pandas as pd\n",
        "try:\n",
        "    from catboost import CatBoostClassifier\n",
        "except ModuleNotFoundError:\n",
        "    !pip install catboost\n",
        "    from catboost import CatBoostClassifier\n",
        "from sklearn.model_selection import train_test_split\n",
        "from sklearn.metrics import accuracy_score, classification_report, confusion_matrix\n"
      ]
    },
    {
      "cell_type": "code",
      "source": [
        "data = pd.read_csv(\"/content/premier-league-matches.csv\")"
      ],
      "metadata": {
        "id": "51tFv1LvGg0E"
      },
      "execution_count": 73,
      "outputs": []
    },
    {
      "cell_type": "code",
      "source": [
        "data['result'] = data.apply(lambda row: 'win' if row['HomeGoals'] > row['AwayGoals'] else ('lose' if row['HomeGoals'] < row['AwayGoals'] else 'draw'), axis=1)"
      ],
      "metadata": {
        "id": "ot5AGQZ6HgZ4"
      },
      "execution_count": 74,
      "outputs": []
    },
    {
      "cell_type": "code",
      "source": [
        "data = data.drop(columns=['HomeGoals', 'AwayGoals'])"
      ],
      "metadata": {
        "id": "FT5ip4rhsRmr"
      },
      "execution_count": 75,
      "outputs": []
    },
    {
      "cell_type": "code",
      "source": [
        "data['home_team'] = data['Home'].astype('category').cat.codes\n",
        "data['away_team'] = data['Away'].astype('category').cat.codes"
      ],
      "metadata": {
        "id": "AA8Ij9hrImeH"
      },
      "execution_count": 76,
      "outputs": []
    },
    {
      "cell_type": "code",
      "source": [
        "# Create 'home_win' and 'away_win' indicators\n",
        "data['home_win'] = data['result'].apply(lambda x: 1 if x == 'win' else 0)\n",
        "data['away_win'] = data['result'].apply(lambda x: 1 if x == 'lose' else 0)\n",
        "\n",
        "# Calculate recent form for the last 5 games for both teams using transform\n",
        "data['home_team_form'] = data.groupby('home_team')['home_win'].transform(\n",
        "    lambda x: x.shift().rolling(5).sum()\n",
        ").fillna(0)\n",
        "\n",
        "data['away_team_form'] = data.groupby('away_team')['away_win'].transform(\n",
        "    lambda x: x.shift().rolling(5).sum()\n",
        ").fillna(0)\n",
        "\n"
      ],
      "metadata": {
        "id": "KGZFVUhmIyo9"
      },
      "execution_count": 77,
      "outputs": []
    },
    {
      "cell_type": "code",
      "source": [
        "# Convert 'result' to numeric codes for goal difference\n",
        "result_mapping = {'win': 1, 'draw': 0, 'lose': -1}\n",
        "data['numeric_result'] = data['result'].map(result_mapping)"
      ],
      "metadata": {
        "id": "ROBAcWMdv3Uv"
      },
      "execution_count": 78,
      "outputs": []
    },
    {
      "cell_type": "code",
      "source": [
        "# Calculate the expanding mean of goal differences using transform\n",
        "data['home_team_avg_gd'] = data.groupby('home_team')['numeric_result'].transform(\n",
        "    lambda x: x.shift().expanding().mean()\n",
        ").fillna(0)\n",
        "\n",
        "data['away_team_avg_gd'] = data.groupby('away_team')['numeric_result'].transform(\n",
        "    lambda x: x.shift().expanding().mean()\n",
        ").fillna(0)"
      ],
      "metadata": {
        "id": "gRdmHu0Iv5wN"
      },
      "execution_count": 79,
      "outputs": []
    },
    {
      "cell_type": "code",
      "source": [
        "# Home vs Away Fixture Indicator\n",
        "data['is_home_game'] = 1"
      ],
      "metadata": {
        "id": "jUNbMF2Cv8c1"
      },
      "execution_count": 80,
      "outputs": []
    },
    {
      "cell_type": "code",
      "source": [
        "# Head-to-Head Statistics Feature\n",
        "data['h2h_record'] = data.apply(\n",
        "    lambda row: len(data[\n",
        "        (data['home_team'] == row['home_team']) &\n",
        "        (data['away_team'] == row['away_team']) &\n",
        "        (data.index < row.name)  # Only count past matches\n",
        "    ]),\n",
        "    axis=1\n",
        ")"
      ],
      "metadata": {
        "id": "1KJgoeY6v_8T"
      },
      "execution_count": 81,
      "outputs": []
    },
    {
      "cell_type": "code",
      "source": [
        "data = data.drop(columns=['home_win', 'away_win', 'numeric_result'])"
      ],
      "metadata": {
        "id": "MP7TVOelwEZ7"
      },
      "execution_count": 82,
      "outputs": []
    },
    {
      "cell_type": "code",
      "source": [
        "y = data['result']  # This should contain 'win', 'lose', 'draw'"
      ],
      "metadata": {
        "id": "-BcS3WXUzO9o"
      },
      "execution_count": 83,
      "outputs": []
    },
    {
      "cell_type": "code",
      "source": [
        "from sklearn.preprocessing import LabelEncoder\n",
        "label_encoder = LabelEncoder()\n",
        "y_encoded = label_encoder.fit_transform(y)\n",
        "\n",
        "print(\"Classes in label_encoder:\")\n",
        "print(label_encoder.classes_)\n",
        "print(\"Data type of classes:\", type(label_encoder.classes_[0]))\n",
        "\n",
        "print(\"First few entries of y:\")\n",
        "print(y.head())\n",
        "print(\"Data type of y elements:\", type(y.iloc[0]))\n"
      ],
      "metadata": {
        "colab": {
          "base_uri": "https://localhost:8080/"
        },
        "id": "011hdHXYxpT6",
        "outputId": "13d9a5e4-ec88-4a11-ccaf-60fa4bb18a88"
      },
      "execution_count": 84,
      "outputs": [
        {
          "output_type": "stream",
          "name": "stdout",
          "text": [
            "Classes in label_encoder:\n",
            "['draw' 'lose' 'win']\n",
            "Data type of classes: <class 'str'>\n",
            "First few entries of y:\n",
            "0     win\n",
            "1     win\n",
            "2     win\n",
            "3    draw\n",
            "4    lose\n",
            "Name: result, dtype: object\n",
            "Data type of y elements: <class 'str'>\n"
          ]
        }
      ]
    },
    {
      "cell_type": "code",
      "source": [
        "X_train, X_test, y_train, y_test = train_test_split(X, y, test_size=0.2, random_state=42)"
      ],
      "metadata": {
        "id": "DVzdlVLALvFn"
      },
      "execution_count": 85,
      "outputs": []
    },
    {
      "cell_type": "code",
      "source": [
        "model = CatBoostClassifier(\n",
        "    iterations=1000,\n",
        "    learning_rate=0.1,\n",
        "    depth=6,\n",
        "    loss_function='MultiClass',\n",
        "    eval_metric='Accuracy',\n",
        "    verbose=100,\n",
        "    random_seed=42\n",
        ")"
      ],
      "metadata": {
        "id": "LTOd9NNBL0Qr"
      },
      "execution_count": 86,
      "outputs": []
    },
    {
      "cell_type": "code",
      "source": [
        "model.fit(\n",
        "    X_train, y_train,\n",
        "    eval_set=(X_test, y_test),\n",
        "    use_best_model=True,\n",
        "    early_stopping_rounds=50\n",
        ")"
      ],
      "metadata": {
        "id": "9iiepCHTMBgh",
        "colab": {
          "base_uri": "https://localhost:8080/"
        },
        "outputId": "841dc853-0fed-44c1-ac8e-a41a9bd22ace"
      },
      "execution_count": 87,
      "outputs": [
        {
          "output_type": "stream",
          "name": "stdout",
          "text": [
            "0:\tlearn: 0.4610187\ttest: 0.4642560\tbest: 0.4642560 (0)\ttotal: 5.88ms\tremaining: 5.87s\n",
            "100:\tlearn: 0.5044699\ttest: 0.5128845\tbest: 0.5128845 (93)\ttotal: 415ms\tremaining: 3.7s\n",
            "Stopped by overfitting detector  (50 iterations wait)\n",
            "\n",
            "bestTest = 0.5162094763\n",
            "bestIteration = 139\n",
            "\n",
            "Shrink model to first 140 iterations.\n"
          ]
        },
        {
          "output_type": "execute_result",
          "data": {
            "text/plain": [
              "<catboost.core.CatBoostClassifier at 0x7c23cd078730>"
            ]
          },
          "metadata": {},
          "execution_count": 87
        }
      ]
    },
    {
      "cell_type": "code",
      "source": [
        "y_pred = model.predict(X_test)"
      ],
      "metadata": {
        "id": "1BJP8-H9FH1U"
      },
      "execution_count": 88,
      "outputs": []
    },
    {
      "cell_type": "code",
      "source": [
        "accuracy = accuracy_score(y_test, y_pred)\n",
        "print(f'Accuracy: {accuracy:.2f}')\n",
        "print('Classification Report:')\n",
        "print(classification_report(y_test, y_pred))"
      ],
      "metadata": {
        "colab": {
          "base_uri": "https://localhost:8080/"
        },
        "id": "9VukEvFsFISL",
        "outputId": "bd282551-d28f-43c8-b29b-42b972228240"
      },
      "execution_count": 90,
      "outputs": [
        {
          "output_type": "stream",
          "name": "stdout",
          "text": [
            "Accuracy: 0.52\n",
            "Classification Report:\n",
            "              precision    recall  f1-score   support\n",
            "\n",
            "        draw       0.38      0.01      0.01       596\n",
            "        lose       0.52      0.38      0.44       700\n",
            "         win       0.52      0.88      0.65      1110\n",
            "\n",
            "    accuracy                           0.52      2406\n",
            "   macro avg       0.47      0.42      0.37      2406\n",
            "weighted avg       0.48      0.52      0.43      2406\n",
            "\n"
          ]
        }
      ]
    },
    {
      "cell_type": "code",
      "source": [
        "accuracy = accuracy_score(y_test, y_pred)\n",
        "print(f'Accuracy: {accuracy:.2f}')\n",
        "\n",
        "print('Classification Report:')\n",
        "print(classification_report(y_test, y_pred, target_names=label_encoder.classes_))\n",
        "\n",
        "# Display the confusion matrix\n",
        "import seaborn as sns\n",
        "import matplotlib.pyplot as plt\n",
        "\n",
        "cm = confusion_matrix(y_test, y_pred)\n",
        "sns.heatmap(cm, annot=True, fmt='d', xticklabels=label_encoder.classes_, yticklabels=label_encoder.classes_)\n",
        "plt.xlabel('Predicted')\n",
        "plt.ylabel('Actual')\n",
        "plt.title('Confusion Matrix')\n",
        "plt.show()"
      ],
      "metadata": {
        "colab": {
          "base_uri": "https://localhost:8080/",
          "height": 676
        },
        "id": "aLUvQy4YFYq0",
        "outputId": "4d0905d9-ef9e-4536-a421-8d1640cab637"
      },
      "execution_count": 91,
      "outputs": [
        {
          "output_type": "stream",
          "name": "stdout",
          "text": [
            "Accuracy: 0.52\n",
            "Classification Report:\n",
            "              precision    recall  f1-score   support\n",
            "\n",
            "        draw       0.38      0.01      0.01       596\n",
            "        lose       0.52      0.38      0.44       700\n",
            "         win       0.52      0.88      0.65      1110\n",
            "\n",
            "    accuracy                           0.52      2406\n",
            "   macro avg       0.47      0.42      0.37      2406\n",
            "weighted avg       0.48      0.52      0.43      2406\n",
            "\n"
          ]
        },
        {
          "output_type": "display_data",
          "data": {
            "text/plain": [
              "<Figure size 640x480 with 2 Axes>"
            ],
            "image/png": "[encoded data removed]"
          },
          "metadata": {}
        }
      ]
    }
  ]
}